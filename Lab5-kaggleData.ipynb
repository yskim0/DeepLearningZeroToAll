{
 "cells": [
  {
   "cell_type": "code",
   "execution_count": 9,
   "metadata": {
    "collapsed": true
   },
   "outputs": [],
   "source": [
    "import tensorflow as tf\n",
    "import numpy as np"
   ]
  },
  {
   "cell_type": "code",
   "execution_count": 31,
   "metadata": {
    "collapsed": true
   },
   "outputs": [],
   "source": [
    "filename_queue = tf.train.string_input_producer(\n",
    "['aaaaaaa.csv'], shuffle = False, name = 'filename_queue')"
   ]
  },
  {
   "cell_type": "code",
   "execution_count": 32,
   "metadata": {
    "collapsed": true
   },
   "outputs": [],
   "source": [
    "reader = tf.TextLineReader()\n",
    "key, value = reader.read(filename_queue)"
   ]
  },
  {
   "cell_type": "code",
   "execution_count": 33,
   "metadata": {},
   "outputs": [],
   "source": [
    "record_defaults = [[0.],[0.],[0.],[0.],[0.],[0.],[0.],[0.],[0.]]\n",
    "xy = tf.decode_csv(value, record_defaults=record_defaults)\n",
    "\n",
    "train_x_batch, train_y_batch = \\\n",
    "    tf.train.batch([xy[0:-1], xy[-1:]], batch_size=50)"
   ]
  },
  {
   "cell_type": "code",
   "execution_count": 34,
   "metadata": {},
   "outputs": [],
   "source": [
    "X = tf.placeholder(tf.float32, shape=[None,8])\n",
    "Y = tf.placeholder(tf.float32, shape=[None,1])\n",
    "\n",
    "W = tf.Variable(tf.random_normal([8,1]), name = 'weight')\n",
    "b = tf.Variable(tf.random_normal([1]), name = 'bias')\n",
    "\n",
    "hypothesis = tf.sigmoid(tf.matmul(X, W) + b)\n",
    "\n",
    "cost = tf.losses.sigmoid_cross_entropy(Y, hypothesis)\n",
    "train = tf.train.AdamOptimizer(learning_rate=0.01).minimize(cost)"
   ]
  },
  {
   "cell_type": "code",
   "execution_count": 35,
   "metadata": {
    "collapsed": true
   },
   "outputs": [],
   "source": [
    "predicted = tf.cast(hypothesis > 0.5, dtype=tf.float32)\n",
    "accuracy = tf.reduce_mean(tf.cast(tf.equal(predicted, Y), dtype= tf.float32))"
   ]
  },
  {
   "cell_type": "code",
   "execution_count": 36,
   "metadata": {},
   "outputs": [
    {
     "name": "stdout",
     "output_type": "stream",
     "text": [
      "0 Cost:  0.818868\n",
      "200 Cost:  0.705549\n",
      "400 Cost:  0.707963\n",
      "600 Cost:  0.705551\n",
      "800 Cost:  0.705547\n",
      "1000 Cost:  0.693147\n",
      "1200 Cost:  0.693147\n",
      "1400 Cost:  0.693147\n",
      "1600 Cost:  0.693147\n",
      "1800 Cost:  0.693155\n",
      "2000 Cost:  0.693154\n",
      "2200 Cost:  0.693152\n",
      "2400 Cost:  0.693147\n",
      "2600 Cost:  0.693147\n",
      "2800 Cost:  0.693147\n",
      "3000 Cost:  0.693147\n",
      "3200 Cost:  0.693147\n",
      "3400 Cost:  0.693147\n",
      "3600 Cost:  0.693147\n",
      "3800 Cost:  0.68557\n",
      "4000 Cost:  0.685567\n",
      "4200 Cost:  0.685564\n",
      "4400 Cost:  0.693147\n",
      "4600 Cost:  0.693147\n",
      "4800 Cost:  0.693147\n",
      "5000 Cost:  0.693147\n",
      "5200 Cost:  0.693147\n",
      "5400 Cost:  0.693147\n",
      "5600 Cost:  0.693147\n",
      "5800 Cost:  0.693147\n",
      "6000 Cost:  0.693147\n",
      "6200 Cost:  0.693147\n",
      "6400 Cost:  0.693147\n",
      "6600 Cost:  0.693147\n",
      "6800 Cost:  0.693147\n",
      "7000 Cost:  0.693147\n",
      "7200 Cost:  0.693147\n",
      "7400 Cost:  0.693147\n",
      "7600 Cost:  0.693147\n",
      "7800 Cost:  0.693147\n",
      "8000 Cost:  0.693147\n",
      "8200 Cost:  0.693147\n",
      "8400 Cost:  0.693147\n",
      "8600 Cost:  0.693147\n",
      "8800 Cost:  0.693147\n",
      "9000 Cost:  0.693147\n",
      "9200 Cost:  0.693147\n",
      "9400 Cost:  0.693147\n",
      "9600 Cost:  0.693147\n",
      "9800 Cost:  0.693147\n",
      "10000 Cost:  0.693147\n",
      "\n",
      "Hypothesis:  [[  0.00000000e+00]\n",
      " [  0.00000000e+00]\n",
      " [  0.00000000e+00]\n",
      " [  0.00000000e+00]\n",
      " [  0.00000000e+00]\n",
      " [  0.00000000e+00]\n",
      " [  0.00000000e+00]\n",
      " [  0.00000000e+00]\n",
      " [  0.00000000e+00]\n",
      " [  0.00000000e+00]\n",
      " [  0.00000000e+00]\n",
      " [  0.00000000e+00]\n",
      " [  0.00000000e+00]\n",
      " [  0.00000000e+00]\n",
      " [  0.00000000e+00]\n",
      " [  0.00000000e+00]\n",
      " [  0.00000000e+00]\n",
      " [  0.00000000e+00]\n",
      " [  0.00000000e+00]\n",
      " [  0.00000000e+00]\n",
      " [  0.00000000e+00]\n",
      " [  0.00000000e+00]\n",
      " [  0.00000000e+00]\n",
      " [  0.00000000e+00]\n",
      " [  0.00000000e+00]\n",
      " [  0.00000000e+00]\n",
      " [  0.00000000e+00]\n",
      " [  0.00000000e+00]\n",
      " [  0.00000000e+00]\n",
      " [  0.00000000e+00]\n",
      " [  1.03490001e-24]\n",
      " [  0.00000000e+00]\n",
      " [  0.00000000e+00]\n",
      " [  0.00000000e+00]\n",
      " [  0.00000000e+00]\n",
      " [  0.00000000e+00]\n",
      " [  0.00000000e+00]\n",
      " [  0.00000000e+00]\n",
      " [  0.00000000e+00]\n",
      " [  0.00000000e+00]\n",
      " [  0.00000000e+00]\n",
      " [  0.00000000e+00]\n",
      " [  0.00000000e+00]\n",
      " [  6.23784444e-12]\n",
      " [  1.90065369e-35]\n",
      " [  0.00000000e+00]\n",
      " [  0.00000000e+00]\n",
      " [  0.00000000e+00]\n",
      " [  0.00000000e+00]\n",
      " [  3.77442626e-35]] \n",
      "Accuracy:  0.72\n"
     ]
    }
   ],
   "source": [
    "with tf.Session() as sess:\n",
    "    sess.run(tf.global_variables_initializer())\n",
    "    \n",
    "    coord = tf.train.Coordinator()\n",
    "    threads = tf.train.start_queue_runners(sess = sess, coord = coord)\n",
    "    \n",
    "    for step in range(10001):\n",
    "        x_batch, y_batch = sess.run([train_x_batch, train_y_batch])\n",
    "        cost_val, hy_val, _ = sess.run(\n",
    "            [cost, hypothesis, train],\n",
    "            feed_dict = {X : x_batch, Y: y_batch})\n",
    "        if step % 200 == 0:\n",
    "            print(step, \"Cost: \", cost_val)\n",
    "    \n",
    "    h, c , a = sess.run([hypothesis, predicted, accuracy], feed_dict = {X: x_batch, Y:y_batch})\n",
    "    print(\"\\nHypothesis: \",h, \"\\nAccuracy: \",a)\n",
    "    \n",
    "    coord.request_stop()\n",
    "    coord.join(threads)\n",
    "            "
   ]
  },
  {
   "cell_type": "code",
   "execution_count": null,
   "metadata": {
    "collapsed": true
   },
   "outputs": [],
   "source": []
  },
  {
   "cell_type": "code",
   "execution_count": null,
   "metadata": {
    "collapsed": true
   },
   "outputs": [],
   "source": []
  }
 ],
 "metadata": {
  "kernelspec": {
   "display_name": "Python 3",
   "language": "python",
   "name": "python3"
  },
  "language_info": {
   "codemirror_mode": {
    "name": "ipython",
    "version": 3
   },
   "file_extension": ".py",
   "mimetype": "text/x-python",
   "name": "python",
   "nbconvert_exporter": "python",
   "pygments_lexer": "ipython3",
   "version": "3.5.2"
  }
 },
 "nbformat": 4,
 "nbformat_minor": 2
}
