{
 "cells": [
  {
   "cell_type": "code",
   "execution_count": 5,
   "metadata": {
    "collapsed": true
   },
   "outputs": [],
   "source": [
    "import tensorflow as tf\n",
    "\n",
    "x_data = [[1,2],[2,3],[3,1],[4,3],[5,3],[6,2]]\n",
    "y_data = [[0],[0],[0],[1],[1],[1]]\n"
   ]
  },
  {
   "cell_type": "code",
   "execution_count": 6,
   "metadata": {},
   "outputs": [],
   "source": [
    "X = tf.placeholder(tf.float32, shape=[None, 2])\n",
    "Y = tf.placeholder(tf.float32, shape=[None, 1])\n",
    "\n",
    "W = tf.Variable(tf.random_normal([2,1]), name = 'weight')\n",
    "b = tf.Variable(tf.random_normal([1]),name = 'bias')\n",
    "\n",
    "hypothesis = tf.sigmoid(tf.matmul(X,W) + b)\n",
    "\n",
    "cost = -tf.reduce_mean(Y * tf.log(hypothesis) + (1-Y) * tf.log(1-hypothesis))\n",
    "train = tf.train.GradientDescentOptimizer(learning_rate=0.01).minimize(cost)\n",
    "\n",
    "predicted = tf.cast(hypothesis > 0.5, dtype=tf.float32)\n",
    "accuracy = tf.reduce_mean(tf.cast(tf.equal(predicted, Y), dtype = tf.float32))"
   ]
  },
  {
   "cell_type": "code",
   "execution_count": 7,
   "metadata": {},
   "outputs": [
    {
     "name": "stdout",
     "output_type": "stream",
     "text": [
      "0 2.62368\n",
      "200 0.524625\n",
      "400 0.505623\n",
      "600 0.487551\n",
      "800 0.470336\n",
      "1000 0.453929\n",
      "1200 0.438293\n",
      "1400 0.423396\n",
      "1600 0.40921\n",
      "1800 0.395706\n",
      "2000 0.382855\n",
      "2200 0.370628\n",
      "2400 0.358996\n",
      "2600 0.347931\n",
      "2800 0.337404\n",
      "3000 0.327389\n",
      "3200 0.317857\n",
      "3400 0.308783\n",
      "3600 0.300141\n",
      "3800 0.291908\n",
      "4000 0.284061\n",
      "4200 0.276579\n",
      "4400 0.269439\n",
      "4600 0.262624\n",
      "4800 0.256114\n",
      "5000 0.249893\n",
      "5200 0.243944\n",
      "5400 0.238251\n",
      "5600 0.232801\n",
      "5800 0.227579\n",
      "6000 0.222574\n",
      "6200 0.217772\n",
      "6400 0.213164\n",
      "6600 0.208739\n",
      "6800 0.204486\n",
      "7000 0.200397\n",
      "7200 0.196464\n",
      "7400 0.192677\n",
      "7600 0.18903\n",
      "7800 0.185515\n",
      "8000 0.182125\n",
      "8200 0.178856\n",
      "8400 0.175699\n",
      "8600 0.172651\n",
      "8800 0.169706\n",
      "9000 0.166858\n",
      "9200 0.164104\n",
      "9400 0.161439\n",
      "9600 0.158859\n",
      "9800 0.15636\n",
      "10000 0.153938\n",
      "\n",
      "Hypothesis:  [[ 0.03263061]\n",
      " [ 0.16133107]\n",
      " [ 0.31379083]\n",
      " [ 0.77733546]\n",
      " [ 0.93699634]\n",
      " [ 0.97930759]] \n",
      "Correct(Y)  [[ 0.]\n",
      " [ 0.]\n",
      " [ 0.]\n",
      " [ 1.]\n",
      " [ 1.]\n",
      " [ 1.]] \n",
      "Accuracy:  1.0\n"
     ]
    }
   ],
   "source": [
    "with tf.Session() as sess:\n",
    "    sess.run(tf.global_variables_initializer())\n",
    "    \n",
    "    for step in range(10001):\n",
    "        cost_val, _ = sess.run([cost, train], feed_dict = {X:x_data, Y:y_data})\n",
    "        if step%200==0:\n",
    "            print(step, cost_val)\n",
    "    \n",
    "    h,c,a = sess.run([hypothesis, predicted, accuracy],\n",
    "                    feed_dict={X:x_data, Y:y_data})\n",
    "    print(\"\\nHypothesis: \",h, \"\\nCorrect(Y) \",c, \"\\nAccuracy: \", a)"
   ]
  },
  {
   "cell_type": "code",
   "execution_count": null,
   "metadata": {
    "collapsed": true
   },
   "outputs": [],
   "source": []
  }
 ],
 "metadata": {
  "kernelspec": {
   "display_name": "Python 3",
   "language": "python",
   "name": "python3"
  },
  "language_info": {
   "codemirror_mode": {
    "name": "ipython",
    "version": 3
   },
   "file_extension": ".py",
   "mimetype": "text/x-python",
   "name": "python",
   "nbconvert_exporter": "python",
   "pygments_lexer": "ipython3",
   "version": "3.5.2"
  }
 },
 "nbformat": 4,
 "nbformat_minor": 2
}
